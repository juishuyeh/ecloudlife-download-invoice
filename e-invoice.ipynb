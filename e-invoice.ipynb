{
 "cells": [
  {
   "cell_type": "code",
   "execution_count": 3,
   "metadata": {},
   "outputs": [],
   "source": [
    "import requests\n",
    "import pandas as pd\n",
    "import json\n",
    "import time"
   ]
  },
  {
   "cell_type": "code",
   "execution_count": 7,
   "metadata": {
    "code_folding": [
     4,
     11,
     17
    ]
   },
   "outputs": [],
   "source": [
    "my_payload = {'number': '請輸入你的電話', \n",
    "              'email': '請輸入你的 mail',\n",
    "              'password':'請輸入你的密碼' }\n",
    "\n",
    "def 取得電子發票記錄(start=2011, end=2018, payload=my_payload, period=6):\n",
    "    # 建立 session 保存以及登入資訊\n",
    "    session = requests.Session()\n",
    "    session.post('https://www.ecloudlife.com/login', data=payload)\n",
    "    \n",
    "    # 產生迭代日期\n",
    "    dates = []\n",
    "    for invoice_year in range(end-start+1):\n",
    "        for invoice_period in range(period):\n",
    "            dates.append(str(invoice_year+start)+str(invoice_period))\n",
    "    \n",
    "    # 迭代日期\n",
    "    df_invoice_list=[]\n",
    "    for date in dates:\n",
    "        url = 'https://www.ecloudlife.com/invoice/my/get?period=' + date\n",
    "        res = session.get(url)\n",
    "        data_json = json.loads(res.text)\n",
    "        \n",
    "        for index in range(len(data_json['invoices'])):\n",
    "            invoice_number = data_json['invoices'][index]['invoice_number']\n",
    "            '20183&n=FQ22015064'\n",
    "            invoice_detail = session.get('https://www.ecloudlife.com/invoicebody/get?p='+date+'&n='+invoice_number)\n",
    "            invoice_detail_json = json.loads(invoice_detail.text)\n",
    "            data_json['invoices'][index]['detail'] = invoice_detail_json\n",
    "        \n",
    "        df_invoice = pd.DataFrame(data_json['invoices'])        \n",
    "        df_invoice_list.append(df_invoice)\n",
    "        \n",
    "        with open('data_invoice_'+date+'.json', 'w') as f:\n",
    "            json.dump(data_json, f, ensure_ascii=False)\n",
    "        \n",
    "        print('output json file', 'data_invoice_'+date+'.json', 'OK')\n",
    "        \n",
    "        time.sleep(5)\n",
    "        \n",
    "        print(date, 'download OK and sleep 5 sec')\n",
    "        \n",
    "    data_combine = pd.concat(df_invoice_list)\n",
    "\n",
    "    data_combine = data_combine.reset_index(drop=True)\n",
    "    \n",
    "    df_invoice_detail_list = []\n",
    "\n",
    "    for row in range(len(data_combine)):\n",
    "        df_invoice_detail = pd.DataFrame(data_combine['detail'][row])\n",
    "        df_invoice_detail_list.append(df_invoice_detail)\n",
    "\n",
    "    df_all_detail_table = pd.concat(df_invoice_detail_list).reset_index(drop=True)\n",
    "    \n",
    "    df_all_detail_table['amount'] = pd.to_numeric(df_all_detail_table['amount'], errors='coerce')\n",
    "    df_all_detail_table['quantity'] = pd.to_numeric(df_all_detail_table['quantity'], errors='coerce')\n",
    "    df_all_detail_table['unit_price'] = pd.to_numeric(df_all_detail_table['unit_price'], errors='coerce')\n",
    "\n",
    "    return data_combine, df_all_detail_table"
   ]
  },
  {
   "cell_type": "code",
   "execution_count": null,
   "metadata": {},
   "outputs": [],
   "source": [
    "df, df_detail = 取得電子發票記錄(start=2011, end=2018, payload=my_payload, period=6)"
   ]
  },
  {
   "cell_type": "code",
   "execution_count": 11,
   "metadata": {
    "scrolled": true
   },
   "outputs": [
    {
     "name": "stdout",
     "output_type": "stream",
     "text": [
      "output json file data_invoice_20110.json OK\n",
      "20110 download OK and sleep 5 sec\n",
      "output json file data_invoice_20111.json OK\n",
      "20111 download OK and sleep 5 sec\n",
      "output json file data_invoice_20112.json OK\n",
      "20112 download OK and sleep 5 sec\n",
      "output json file data_invoice_20113.json OK\n",
      "20113 download OK and sleep 5 sec\n",
      "output json file data_invoice_20114.json OK\n",
      "20114 download OK and sleep 5 sec\n",
      "output json file data_invoice_20115.json OK\n",
      "20115 download OK and sleep 5 sec\n",
      "output json file data_invoice_20120.json OK\n",
      "20120 download OK and sleep 5 sec\n",
      "output json file data_invoice_20121.json OK\n",
      "20121 download OK and sleep 5 sec\n",
      "output json file data_invoice_20122.json OK\n",
      "20122 download OK and sleep 5 sec\n",
      "output json file data_invoice_20123.json OK\n",
      "20123 download OK and sleep 5 sec\n",
      "output json file data_invoice_20124.json OK\n",
      "20124 download OK and sleep 5 sec\n",
      "output json file data_invoice_20125.json OK\n",
      "20125 download OK and sleep 5 sec\n",
      "output json file data_invoice_20130.json OK\n",
      "20130 download OK and sleep 5 sec\n",
      "output json file data_invoice_20131.json OK\n",
      "20131 download OK and sleep 5 sec\n",
      "output json file data_invoice_20132.json OK\n",
      "20132 download OK and sleep 5 sec\n",
      "output json file data_invoice_20133.json OK\n",
      "20133 download OK and sleep 5 sec\n",
      "output json file data_invoice_20134.json OK\n",
      "20134 download OK and sleep 5 sec\n",
      "output json file data_invoice_20135.json OK\n",
      "20135 download OK and sleep 5 sec\n",
      "output json file data_invoice_20140.json OK\n",
      "20140 download OK and sleep 5 sec\n",
      "output json file data_invoice_20141.json OK\n",
      "20141 download OK and sleep 5 sec\n",
      "output json file data_invoice_20142.json OK\n",
      "20142 download OK and sleep 5 sec\n",
      "output json file data_invoice_20143.json OK\n",
      "20143 download OK and sleep 5 sec\n",
      "output json file data_invoice_20144.json OK\n",
      "20144 download OK and sleep 5 sec\n",
      "output json file data_invoice_20145.json OK\n",
      "20145 download OK and sleep 5 sec\n",
      "output json file data_invoice_20150.json OK\n",
      "20150 download OK and sleep 5 sec\n",
      "output json file data_invoice_20151.json OK\n",
      "20151 download OK and sleep 5 sec\n",
      "output json file data_invoice_20152.json OK\n",
      "20152 download OK and sleep 5 sec\n",
      "output json file data_invoice_20153.json OK\n",
      "20153 download OK and sleep 5 sec\n",
      "output json file data_invoice_20154.json OK\n",
      "20154 download OK and sleep 5 sec\n",
      "output json file data_invoice_20155.json OK\n",
      "20155 download OK and sleep 5 sec\n",
      "output json file data_invoice_20160.json OK\n",
      "20160 download OK and sleep 5 sec\n",
      "output json file data_invoice_20161.json OK\n",
      "20161 download OK and sleep 5 sec\n",
      "output json file data_invoice_20162.json OK\n",
      "20162 download OK and sleep 5 sec\n",
      "output json file data_invoice_20163.json OK\n",
      "20163 download OK and sleep 5 sec\n",
      "output json file data_invoice_20164.json OK\n",
      "20164 download OK and sleep 5 sec\n",
      "output json file data_invoice_20165.json OK\n",
      "20165 download OK and sleep 5 sec\n",
      "output json file data_invoice_20170.json OK\n",
      "20170 download OK and sleep 5 sec\n",
      "output json file data_invoice_20171.json OK\n",
      "20171 download OK and sleep 5 sec\n",
      "output json file data_invoice_20172.json OK\n",
      "20172 download OK and sleep 5 sec\n",
      "output json file data_invoice_20173.json OK\n",
      "20173 download OK and sleep 5 sec\n",
      "output json file data_invoice_20174.json OK\n",
      "20174 download OK and sleep 5 sec\n",
      "output json file data_invoice_20175.json OK\n",
      "20175 download OK and sleep 5 sec\n",
      "output json file data_invoice_20180.json OK\n",
      "20180 download OK and sleep 5 sec\n",
      "output json file data_invoice_20181.json OK\n",
      "20181 download OK and sleep 5 sec\n",
      "output json file data_invoice_20182.json OK\n",
      "20182 download OK and sleep 5 sec\n",
      "output json file data_invoice_20183.json OK\n",
      "20183 download OK and sleep 5 sec\n",
      "output json file data_invoice_20184.json OK\n",
      "20184 download OK and sleep 5 sec\n",
      "output json file data_invoice_20185.json OK\n",
      "20185 download OK and sleep 5 sec\n"
     ]
    }
   ],
   "source": [
    "df.to_pickle('invoice.pickle') # 以後可以直接調用, 不需要再從網路下載一次\n",
    "df_detail.to_pickle('invoice_detail.pickle')"
   ]
  },
  {
   "cell_type": "markdown",
   "metadata": {},
   "source": [
    "# 參考資料\n",
    "# https://morvanzhou.github.io/tutorials/data-manipulation/scraping/3-01-requests/\n",
    "\n",
    "# http://zwindr.blogspot.com/2016/08/python-requests.html"
   ]
  },
  {
   "cell_type": "code",
   "execution_count": null,
   "metadata": {},
   "outputs": [],
   "source": []
  }
 ],
 "metadata": {
  "kernelspec": {
   "display_name": "Python 3",
   "language": "python",
   "name": "python3"
  },
  "language_info": {
   "codemirror_mode": {
    "name": "ipython",
    "version": 3
   },
   "file_extension": ".py",
   "mimetype": "text/x-python",
   "name": "python",
   "nbconvert_exporter": "python",
   "pygments_lexer": "ipython3",
   "version": "3.6.5"
  },
  "varInspector": {
   "cols": {
    "lenName": 16,
    "lenType": 16,
    "lenVar": 40
   },
   "kernels_config": {
    "python": {
     "delete_cmd_postfix": "",
     "delete_cmd_prefix": "del ",
     "library": "var_list.py",
     "varRefreshCmd": "print(var_dic_list())"
    },
    "r": {
     "delete_cmd_postfix": ") ",
     "delete_cmd_prefix": "rm(",
     "library": "var_list.r",
     "varRefreshCmd": "cat(var_dic_list()) "
    }
   },
   "types_to_exclude": [
    "module",
    "function",
    "builtin_function_or_method",
    "instance",
    "_Feature"
   ],
   "window_display": false
  }
 },
 "nbformat": 4,
 "nbformat_minor": 2
}
